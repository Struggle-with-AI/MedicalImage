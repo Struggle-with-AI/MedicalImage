{
 "cells": [
  {
   "cell_type": "code",
   "execution_count": 1,
   "metadata": {},
   "outputs": [],
   "source": [
    "import os\n",
    "import cv2\n",
    "import torch\n",
    "import shutil\n",
    "import numpy as np\n",
    "import torchvision.transforms as transforms\n",
    "import torchvision.models.detection as detection\n",
    "from torchvision.io import read_image\n",
    "from torchvision.transforms.functional import to_pil_image\n",
    "from sklearn.cluster import DBSCAN\n",
    "from torchvision.models import inception_v3, Inception_V3_Weights\n",
    "from torchvision.models.detection import MaskRCNN_ResNet50_FPN_Weights"
   ]
  },
  {
   "cell_type": "code",
   "execution_count": 2,
   "metadata": {},
   "outputs": [],
   "source": [
    "# Paths\n",
    "INPUT_FOLDER = r\"C:\\Users\\nguye\\OneDrive\\Desktop\\2024\\Spring 24\\ResreachWithGollum\\input_images\"  # Folder containing input images\n",
    "FEATURE_FOLDER = r\"C:\\Users\\nguye\\OneDrive\\Desktop\\2024\\Spring 24\\ResreachWithGollum\\features\"  # Output folder for clustered segments\n",
    "DEBUG_FOLDER = r\"C:\\Users\\nguye\\OneDrive\\Desktop\\2024\\Spring 24\\ResreachWithGollum\\debug\"  # Folder for debugging output\n",
    "\n",
    "# Ensure output directory exists\n",
    "if os.path.exists(FEATURE_FOLDER):\n",
    "    shutil.rmtree(FEATURE_FOLDER)  # Clear previous results\n",
    "os.makedirs(FEATURE_FOLDER)\n",
    "\n",
    "# Ensure output directory exists\n",
    "if os.path.exists(DEBUG_FOLDER):\n",
    "    shutil.rmtree(DEBUG_FOLDER)  # Clear previous results\n",
    "os.makedirs(DEBUG_FOLDER)"
   ]
  },
  {
   "cell_type": "code",
   "execution_count": 3,
   "metadata": {},
   "outputs": [],
   "source": [
    "# Load Pretrained Mask R-CNN (for segmentation)\n",
    "device = \"cuda\" if torch.cuda.is_available() else \"cpu\"\n",
    "mask_rcnn_weights = MaskRCNN_ResNet50_FPN_Weights.DEFAULT\n",
    "mask_rcnn = detection.maskrcnn_resnet50_fpn(weights=mask_rcnn_weights).to(device)\n",
    "mask_rcnn.eval()\n",
    "\n",
    "# Load Pretrained CNN (Inception-V3 for feature extraction)\n",
    "cnn_weights = Inception_V3_Weights.DEFAULT\n",
    "cnn_model = inception_v3(weights=cnn_weights).to(device)\n",
    "cnn_model.eval()\n",
    "\n",
    "# Image Transform for Feature Extraction\n",
    "transform = transforms.Compose([\n",
    "    transforms.Resize((299, 299)),  # Resize for Inception-V3\n",
    "    transforms.ToTensor(),\n",
    "    transforms.Normalize(mean=[0.485, 0.456, 0.406], std=[0.229, 0.224, 0.225])\n",
    "])"
   ]
  },
  {
   "cell_type": "code",
   "execution_count": 4,
   "metadata": {},
   "outputs": [],
   "source": [
    "def extract_features(image):\n",
    "    \"\"\"Extract features from an image segment using Inception-V3.\"\"\"\n",
    "    image = transform(image).unsqueeze(0).to(device)\n",
    "    with torch.no_grad():\n",
    "        features = cnn_model(image).cpu().numpy().flatten()  # Feature vector\n",
    "    return features\n",
    "\n",
    "def segment_image(image_path):\n",
    "    \"\"\"Segment the image using Mask R-CNN.\"\"\"\n",
    "    image = read_image(image_path).to(device) / 255.0  # Convert to tensor\n",
    "    with torch.no_grad():\n",
    "        predictions = mask_rcnn([image])  # Get segmentation predictions\n",
    "\n",
    "    segments = []\n",
    "    for i, score in enumerate(predictions[0]['scores']):\n",
    "        if score > 0.25:  # Only keep high-confidence segments\n",
    "            mask = predictions[0]['masks'][i, 0].cpu().numpy()  # Get mask\n",
    "            bbox = predictions[0]['boxes'][i].cpu().numpy().astype(int)  # Get bounding box\n",
    "            x1, y1, x2, y2 = bbox\n",
    "\n",
    "            # Extract the segmented part\n",
    "            img = cv2.imread(image_path)\n",
    "            segment = img[y1:y2, x1:x2]\n",
    "\n",
    "            # Ignore very small segments\n",
    "            if segment.shape[0] > 50 and segment.shape[1] > 50:\n",
    "                segments.append((segment, bbox))\n",
    "\n",
    "                # DEBUG: Save detected segments\n",
    "                debug_path = os.path.join(DEBUG_FOLDER, f\"debug_{i}.jpg\")\n",
    "                cv2.imwrite(debug_path, segment)\n",
    "\n",
    "    return segments"
   ]
  },
  {
   "cell_type": "code",
   "execution_count": 5,
   "metadata": {},
   "outputs": [],
   "source": [
    "# Step 1: Process all images and extract segments\n",
    "all_features = []\n",
    "segment_images = []\n",
    "\n",
    "for filename in os.listdir(INPUT_FOLDER):\n",
    "    if filename.lower().endswith((\".jpg\", \".png\", \".jpeg\")):\n",
    "        img_path = os.path.join(INPUT_FOLDER, filename)\n",
    "        segments = segment_image(img_path)\n",
    "        \n",
    "        if not segments:\n",
    "            print(f\"[WARNING] No segments found in {filename}. Try lowering score threshold.\")\n",
    "\n",
    "        for segment, bbox in segments:\n",
    "            segment_images.append(segment)\n",
    "            pil_image = to_pil_image(cv2.cvtColor(segment, cv2.COLOR_BGR2RGB))  # Convert OpenCV to PIL\n",
    "            features = extract_features(pil_image)\n",
    "            all_features.append(features)"
   ]
  },
  {
   "cell_type": "code",
   "execution_count": 6,
   "metadata": {},
   "outputs": [],
   "source": [
    "# Step 2: Cluster similar feature segments using DBSCAN\n",
    "all_features = np.array(all_features)\n",
    "dbscan = DBSCAN(eps=10, min_samples=1)  # Adjust `eps` based on dataset\n",
    "labels = dbscan.fit_predict(all_features)"
   ]
  },
  {
   "cell_type": "code",
   "execution_count": 7,
   "metadata": {},
   "outputs": [
    {
     "name": "stdout",
     "output_type": "stream",
     "text": [
      "Segmentation and clustering complete! Results saved in 'C:\\Users\\nguye\\OneDrive\\Desktop\\2024\\Spring 24\\ResreachWithGollum\\features/'.\n"
     ]
    }
   ],
   "source": [
    "# Step 3: Save segments into corresponding feature folders\n",
    "unique_labels = set(labels)\n",
    "for label in unique_labels:\n",
    "    if label == -1:\n",
    "        continue  # Skip noise points\n",
    "    feature_dir = os.path.join(FEATURE_FOLDER, f\"feature{label+1}\")\n",
    "    os.makedirs(feature_dir, exist_ok=True)\n",
    "\n",
    "    for idx, (segment, lbl) in enumerate(zip(segment_images, labels)):\n",
    "        if lbl == label:\n",
    "            segment_path = os.path.join(feature_dir, f\"segment_{idx}.jpg\")\n",
    "            cv2.imwrite(segment_path, segment)\n",
    "\n",
    "print(f\"Segmentation and clustering complete! Results saved in '{FEATURE_FOLDER}/'.\")\n"
   ]
  }
 ],
 "metadata": {
  "kernelspec": {
   "display_name": "Python 3",
   "language": "python",
   "name": "python3"
  },
  "language_info": {
   "codemirror_mode": {
    "name": "ipython",
    "version": 3
   },
   "file_extension": ".py",
   "mimetype": "text/x-python",
   "name": "python",
   "nbconvert_exporter": "python",
   "pygments_lexer": "ipython3",
   "version": "3.12.1"
  }
 },
 "nbformat": 4,
 "nbformat_minor": 2
}
