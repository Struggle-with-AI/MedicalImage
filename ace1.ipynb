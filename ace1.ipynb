{
 "cells": [
  {
   "cell_type": "code",
   "execution_count": 1,
   "metadata": {},
   "outputs": [],
   "source": [
    "import os\n",
    "import cv2\n",
    "import torch\n",
    "import shutil\n",
    "import numpy as np\n",
    "import torchvision.models as models\n",
    "import torchvision.transforms as transforms\n",
    "from sklearn.cluster import KMeans\n",
    "from torchvision.io import read_image\n",
    "from torchvision.transforms.functional import to_pil_image"
   ]
  },
  {
   "cell_type": "code",
   "execution_count": 2,
   "metadata": {},
   "outputs": [],
   "source": [
    "# Paths\n",
    "INPUT_FOLDER = r\"C:\\Users\\nguye\\OneDrive\\Desktop\\2024\\Spring 24\\ResreachWithGollum\\input_images\"  # Folder containing input images\n",
    "FEATURE_FOLDER = r\"C:\\Users\\nguye\\OneDrive\\Desktop\\2024\\Spring 24\\ResreachWithGollum\\features\"  # Output folder for clustered segments\n",
    "\n",
    "# Ensure output directory exists\n",
    "if os.path.exists(FEATURE_FOLDER):\n",
    "    shutil.rmtree(FEATURE_FOLDER)  # Clear previous results\n",
    "os.makedirs(FEATURE_FOLDER)\n"
   ]
  },
  {
   "cell_type": "code",
   "execution_count": 3,
   "metadata": {},
   "outputs": [],
   "source": [
    "# Load Pretrained CNN (Inception-V3)\n",
    "device = \"cuda\" if torch.cuda.is_available() else \"cpu\"\n",
    "weights = models.Inception_V3_Weights.DEFAULT\n",
    "model = models.inception_v3(weights=weights).to(device)\n",
    "model.eval()\n",
    "\n",
    "# Image Transform for Feature Extraction\n",
    "transform = transforms.Compose([\n",
    "    transforms.Resize((299, 299)),  # Resize for Inception-V3\n",
    "    transforms.ToTensor(),\n",
    "    transforms.Normalize(mean=[0.485, 0.456, 0.406], std=[0.229, 0.224, 0.225])\n",
    "])"
   ]
  },
  {
   "cell_type": "code",
   "execution_count": 6,
   "metadata": {},
   "outputs": [],
   "source": [
    "def extract_features(image):\n",
    "    \"\"\"Extract features from an image segment using Inception-V3.\"\"\"\n",
    "    image = transform(image).unsqueeze(0).to(device)\n",
    "    with torch.no_grad():\n",
    "        features = model(image).cpu().numpy().flatten()  # Feature vector\n",
    "    return features\n",
    "\n",
    "def segment_image(image_path):\n",
    "    \"\"\"Segment the image using OpenCV and return bounding boxes and cropped regions.\"\"\"\n",
    "    image = cv2.imread(image_path)\n",
    "    gray = cv2.cvtColor(image, cv2.COLOR_BGR2GRAY)\n",
    "    \n",
    "    # Use Canny edge detection\n",
    "    edges = cv2.Canny(gray, 100, 200)\n",
    "    \n",
    "    # Find contours from edges\n",
    "    contours, _ = cv2.findContours(edges, cv2.RETR_EXTERNAL, cv2.CHAIN_APPROX_SIMPLE)\n",
    "    \n",
    "    segments = []\n",
    "    for cnt in contours:\n",
    "        x, y, w, h = cv2.boundingRect(cnt)\n",
    "        if w > 20 and h > 20:  # Ignore very small segments\n",
    "            segment = image[y:y+h, x:x+w]\n",
    "            segments.append((segment, (x, y, w, h)))  # Store image segment and its bounding box\n",
    "    \n",
    "    return segments\n"
   ]
  },
  {
   "cell_type": "code",
   "execution_count": 7,
   "metadata": {},
   "outputs": [],
   "source": [
    "# Step 1: Process all images and extract segments\n",
    "all_segments = []\n",
    "segment_images = []\n",
    "\n",
    "for filename in os.listdir(INPUT_FOLDER):\n",
    "    if filename.lower().endswith((\".jpg\", \".png\", \".jpeg\")):\n",
    "        img_path = os.path.join(INPUT_FOLDER, filename)\n",
    "        segments = segment_image(img_path)\n",
    "        \n",
    "        for segment, bbox in segments:\n",
    "            segment_images.append(segment)\n",
    "            pil_image = to_pil_image(cv2.cvtColor(segment, cv2.COLOR_BGR2RGB))  # Convert OpenCV image to PIL\n",
    "            features = extract_features(pil_image)\n",
    "            all_segments.append(features)"
   ]
  },
  {
   "cell_type": "code",
   "execution_count": 8,
   "metadata": {},
   "outputs": [],
   "source": [
    "# Step 2: Cluster segments using K-Means\n",
    "NUM_CLUSTERS = 5  # Adjust based on expected number of feature groups (e.g., wheels, windows)\n",
    "all_segments = np.array(all_segments)\n",
    "\n",
    "kmeans = KMeans(n_clusters=NUM_CLUSTERS, random_state=42, n_init=10)\n",
    "labels = kmeans.fit_predict(all_segments)"
   ]
  },
  {
   "cell_type": "code",
   "execution_count": 9,
   "metadata": {},
   "outputs": [
    {
     "name": "stdout",
     "output_type": "stream",
     "text": [
      "Segmentation and clustering complete! Results saved in 'C:\\Users\\nguye\\OneDrive\\Desktop\\2024\\Spring 24\\ResreachWithGollum\\features/'.\n"
     ]
    }
   ],
   "source": [
    "# Step 3: Save segments into corresponding feature folders\n",
    "for idx, (segment, label) in enumerate(zip(segment_images, labels)):\n",
    "    feature_dir = os.path.join(FEATURE_FOLDER, f\"feature{label+1}\")\n",
    "    os.makedirs(feature_dir, exist_ok=True)\n",
    "\n",
    "    # Save segmented image\n",
    "    segment_path = os.path.join(feature_dir, f\"segment_{idx}.jpg\")\n",
    "    cv2.imwrite(segment_path, segment)\n",
    "\n",
    "print(f\"Segmentation and clustering complete! Results saved in '{FEATURE_FOLDER}/'.\")"
   ]
  }
 ],
 "metadata": {
  "kernelspec": {
   "display_name": "Python 3",
   "language": "python",
   "name": "python3"
  },
  "language_info": {
   "codemirror_mode": {
    "name": "ipython",
    "version": 3
   },
   "file_extension": ".py",
   "mimetype": "text/x-python",
   "name": "python",
   "nbconvert_exporter": "python",
   "pygments_lexer": "ipython3",
   "version": "3.12.1"
  }
 },
 "nbformat": 4,
 "nbformat_minor": 2
}
