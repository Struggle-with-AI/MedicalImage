{
 "cells": [
  {
   "cell_type": "markdown",
   "id": "2548db15",
   "metadata": {
    "papermill": {
     "duration": 0.017551,
     "end_time": "2025-04-13T08:34:31.862492",
     "exception": false,
     "start_time": "2025-04-13T08:34:31.844941",
     "status": "completed"
    },
    "tags": []
   },
   "source": [
    "# This Master's project for the University of Anbar, \n",
    "The aim is to build a Model to detect the disease at an early phase that will assists doctors in the diagnosing phase.\n",
    "Objectives:\n",
    "- to detect breast cancer in The early assist Using This Model.\n",
    "\n",
    "\n",
    "# We have several phases to Accomplished\n",
    "# 1- Discover DataSet :\n",
    "> #### https://www.kaggle.com/datasets/awsaf49/cbis-ddsm-breast-cancer-image-dataset/data\n",
    "> Summary\n",
    "> This CBIS-DDSM (Curated Breast Imaging Subset of DDSM) is an updated and standardized version of the Digital Database for Screening Mammography (DDSM). The DDSM is a database of 2,620 scanned film mammography studies. It contains normal, benign, and malignant cases with verified pathology information. The database's scale and ground truth validation make the DDSM a useful tool in developing and testing decision support systems. The CBIS-DDSM collection includes a subset of the DDDSM data selected and curated by a trained mammographer. The images have been decompressed and converted to DICOM format. Updated ROI segmentation and bounding boxes, and pathologic diagnosis for training data are also included. A manuscript describing how to use this dataset in detail is available at https://www.nature.com/articles/sdata2017177.\n",
    "\n",
    "> Published research results from work in developing decision support systems in mammography are difficult to replicate due to the lack of a standard evaluation data set; most computer-aided diagnosis (CADx) and detection (CADe) algorithms for breast cancer in mammography are evaluated on private data sets or on unspecified subsets of public databases. Few well-curated public datasets have been provided for the mammography community. These include the DDSM, the Mammographic Imaging Analysis Society (MIAS) database, and the Image Retrieval in Medical Applications (IRMA) project. Although these public data sets are useful, they are limited in terms of data set size and accessibility.\n",
    "\n",
    "> For example, most researchers using the DDSM do not leverage all its images for a variety of historical reasons. When the database was released in 1997, computational resources to process hundreds or thousands of images were not widely available. Additionally, the DDSM images are saved in non-standard compression files that require the use of decompression code that has not been updated or maintained for modern computers. Finally, the ROI annotations for the abnormalities in the DDSM were provided to indicate a general position of lesions, but not a precise segmentation for them. Therefore, many researchers must implement segmentation algorithms for accurate feature extraction. This causes an inability to compare the performance of methods directly or to replicate prior results. The CBIS-DDSM collection addresses that challenge by publicly releasing a curated and standardized version of the DDSM for evaluation of future CADx and CADe systems (sometimes referred to generally as CAD) research in mammography.\n",
    "\n",
    "> Please note that the image data for this collection is structured such that each participant has multiple patient IDs. For example, participant 00038 has 10 separate patient IDs which provide information about the scans within the IDs (e.g. Calc-Test_P_00038_LEFT_CC, Calc-Test_P_00038_RIGHT_CC_1). This makes it appear as though there are 6,671 patients according to the DICOM metadata, but there are only 1,566 actual participants in the cohort.\n"
   ]
  },
  {
   "cell_type": "markdown",
   "id": "45576680",
   "metadata": {
    "papermill": {
     "duration": 0.016848,
     "end_time": "2025-04-13T08:34:31.895894",
     "exception": false,
     "start_time": "2025-04-13T08:34:31.879046",
     "status": "completed"
    },
    "tags": []
   },
   "source": [
    "# 2- Import Libraries"
   ]
  },
  {
   "cell_type": "code",
   "execution_count": 2,
   "id": "1586302f",
   "metadata": {
    "execution": {
     "iopub.execute_input": "2025-04-13T08:34:31.931677Z",
     "iopub.status.busy": "2025-04-13T08:34:31.931238Z",
     "iopub.status.idle": "2025-04-13T08:34:47.523578Z",
     "shell.execute_reply": "2025-04-13T08:34:47.522627Z"
    },
    "papermill": {
     "duration": 15.613252,
     "end_time": "2025-04-13T08:34:47.525801",
     "exception": false,
     "start_time": "2025-04-13T08:34:31.912549",
     "status": "completed"
    },
    "tags": []
   },
   "outputs": [],
   "source": [
    "import pandas as pd"
   ]
  },
  {
   "cell_type": "markdown",
   "id": "80a966c5",
   "metadata": {
    "papermill": {
     "duration": 0.016293,
     "end_time": "2025-04-13T08:34:47.559020",
     "exception": false,
     "start_time": "2025-04-13T08:34:47.542727",
     "status": "completed"
    },
    "tags": []
   },
   "source": [
    "# 3- Loading DataSet"
   ]
  },
  {
   "cell_type": "markdown",
   "id": "503ced01",
   "metadata": {
    "papermill": {
     "duration": 0.016141,
     "end_time": "2025-04-13T08:34:47.591422",
     "exception": false,
     "start_time": "2025-04-13T08:34:47.575281",
     "status": "completed"
    },
    "tags": []
   },
   "source": [
    "> ------\n",
    "\n",
    "> #### We have 6 Files csv\n"
   ]
  },
  {
   "cell_type": "markdown",
   "id": "7baaa701",
   "metadata": {
    "papermill": {
     "duration": 0.016005,
     "end_time": "2025-04-13T08:34:47.623527",
     "exception": false,
     "start_time": "2025-04-13T08:34:47.607522",
     "status": "completed"
    },
    "tags": []
   },
   "source": [
    "# 4- Data Preparation"
   ]
  },
  {
   "cell_type": "code",
   "execution_count": 3,
   "id": "56a13163",
   "metadata": {
    "execution": {
     "iopub.execute_input": "2025-04-13T08:34:47.658784Z",
     "iopub.status.busy": "2025-04-13T08:34:47.657682Z",
     "iopub.status.idle": "2025-04-13T08:34:47.913357Z",
     "shell.execute_reply": "2025-04-13T08:34:47.912551Z"
    },
    "papermill": {
     "duration": 0.2759,
     "end_time": "2025-04-13T08:34:47.915557",
     "exception": false,
     "start_time": "2025-04-13T08:34:47.639657",
     "status": "completed"
    },
    "tags": []
   },
   "outputs": [],
   "source": [
    "dicom_df = pd.read_csv(\"./data/csv/dicom_info.csv\")"
   ]
  },
  {
   "cell_type": "markdown",
   "id": "ce984d9a",
   "metadata": {
    "papermill": {
     "duration": 0.015945,
     "end_time": "2025-04-13T08:34:47.948079",
     "exception": false,
     "start_time": "2025-04-13T08:34:47.932134",
     "status": "completed"
    },
    "tags": []
   },
   "source": [
    "> # check image path in dataset"
   ]
  },
  {
   "cell_type": "markdown",
   "id": "d14b2f17",
   "metadata": {
    "papermill": {
     "duration": 0.015377,
     "end_time": "2025-04-13T08:34:47.979370",
     "exception": false,
     "start_time": "2025-04-13T08:34:47.963993",
     "status": "completed"
    },
    "tags": []
   },
   "source": [
    "> ------\n",
    "\n",
    "\n",
    "> #### cropped images"
   ]
  },
  {
   "cell_type": "code",
   "execution_count": 4,
   "id": "d651bc67",
   "metadata": {
    "execution": {
     "iopub.execute_input": "2025-04-13T08:34:48.013878Z",
     "iopub.status.busy": "2025-04-13T08:34:48.013132Z",
     "iopub.status.idle": "2025-04-13T08:34:48.032363Z",
     "shell.execute_reply": "2025-04-13T08:34:48.031231Z"
    },
    "papermill": {
     "duration": 0.038632,
     "end_time": "2025-04-13T08:34:48.034204",
     "exception": false,
     "start_time": "2025-04-13T08:34:47.995572",
     "status": "completed"
    },
    "tags": []
   },
   "outputs": [
    {
     "data": {
      "text/plain": [
       "0     CBIS-DDSM/jpeg/1.3.6.1.4.1.9590.100.1.2.129308...\n",
       "3     CBIS-DDSM/jpeg/1.3.6.1.4.1.9590.100.1.2.381187...\n",
       "6     CBIS-DDSM/jpeg/1.3.6.1.4.1.9590.100.1.2.153339...\n",
       "7     CBIS-DDSM/jpeg/1.3.6.1.4.1.9590.100.1.2.178994...\n",
       "10    CBIS-DDSM/jpeg/1.3.6.1.4.1.9590.100.1.2.411833...\n",
       "Name: image_path, dtype: object"
      ]
     },
     "execution_count": 4,
     "metadata": {},
     "output_type": "execute_result"
    }
   ],
   "source": [
    "cropped_images = dicom_df[dicom_df.SeriesDescription==\"cropped images\"].image_path\n",
    "cropped_images.head()"
   ]
  },
  {
   "cell_type": "markdown",
   "id": "8b7ecb98",
   "metadata": {
    "papermill": {
     "duration": 0.015686,
     "end_time": "2025-04-13T08:34:48.065750",
     "exception": false,
     "start_time": "2025-04-13T08:34:48.050064",
     "status": "completed"
    },
    "tags": []
   },
   "source": [
    "> ------\n",
    "\n",
    "> #### full mammogram images"
   ]
  },
  {
   "cell_type": "code",
   "execution_count": 5,
   "id": "dbdc8171",
   "metadata": {
    "execution": {
     "iopub.execute_input": "2025-04-13T08:34:48.098138Z",
     "iopub.status.busy": "2025-04-13T08:34:48.097751Z",
     "iopub.status.idle": "2025-04-13T08:34:48.108845Z",
     "shell.execute_reply": "2025-04-13T08:34:48.107722Z"
    },
    "papermill": {
     "duration": 0.030082,
     "end_time": "2025-04-13T08:34:48.110975",
     "exception": false,
     "start_time": "2025-04-13T08:34:48.080893",
     "status": "completed"
    },
    "tags": []
   },
   "outputs": [
    {
     "data": {
      "text/plain": [
       "1     CBIS-DDSM/jpeg/1.3.6.1.4.1.9590.100.1.2.248386...\n",
       "2     CBIS-DDSM/jpeg/1.3.6.1.4.1.9590.100.1.2.267213...\n",
       "11    CBIS-DDSM/jpeg/1.3.6.1.4.1.9590.100.1.2.210396...\n",
       "12    CBIS-DDSM/jpeg/1.3.6.1.4.1.9590.100.1.2.749566...\n",
       "15    CBIS-DDSM/jpeg/1.3.6.1.4.1.9590.100.1.2.987658...\n",
       "Name: image_path, dtype: object"
      ]
     },
     "execution_count": 5,
     "metadata": {},
     "output_type": "execute_result"
    }
   ],
   "source": [
    "full_mammogram = dicom_df[dicom_df.SeriesDescription==\"full mammogram images\"].image_path\n",
    "full_mammogram.head()"
   ]
  },
  {
   "cell_type": "markdown",
   "id": "7d76e496",
   "metadata": {
    "papermill": {
     "duration": 0.01816,
     "end_time": "2025-04-13T08:34:48.147141",
     "exception": false,
     "start_time": "2025-04-13T08:34:48.128981",
     "status": "completed"
    },
    "tags": []
   },
   "source": [
    "> ------\n",
    "\n",
    "> #### ROI images"
   ]
  },
  {
   "cell_type": "code",
   "execution_count": 6,
   "id": "b1e474f8",
   "metadata": {
    "execution": {
     "iopub.execute_input": "2025-04-13T08:34:48.181407Z",
     "iopub.status.busy": "2025-04-13T08:34:48.181027Z",
     "iopub.status.idle": "2025-04-13T08:34:48.192087Z",
     "shell.execute_reply": "2025-04-13T08:34:48.191015Z"
    },
    "papermill": {
     "duration": 0.030524,
     "end_time": "2025-04-13T08:34:48.194282",
     "exception": false,
     "start_time": "2025-04-13T08:34:48.163758",
     "status": "completed"
    },
    "tags": []
   },
   "outputs": [
    {
     "data": {
      "text/plain": [
       "5     CBIS-DDSM/jpeg/1.3.6.1.4.1.9590.100.1.2.153339...\n",
       "8     CBIS-DDSM/jpeg/1.3.6.1.4.1.9590.100.1.2.178994...\n",
       "9     CBIS-DDSM/jpeg/1.3.6.1.4.1.9590.100.1.2.411833...\n",
       "14    CBIS-DDSM/jpeg/1.3.6.1.4.1.9590.100.1.2.236373...\n",
       "20    CBIS-DDSM/jpeg/1.3.6.1.4.1.9590.100.1.2.357008...\n",
       "Name: image_path, dtype: object"
      ]
     },
     "execution_count": 6,
     "metadata": {},
     "output_type": "execute_result"
    }
   ],
   "source": [
    "roi_mask = dicom_df[dicom_df.SeriesDescription==\"ROI mask images\"].image_path\n",
    "roi_mask.head()"
   ]
  },
  {
   "cell_type": "markdown",
   "id": "8d29f149",
   "metadata": {
    "papermill": {
     "duration": 0.016596,
     "end_time": "2025-04-13T08:34:48.484056",
     "exception": false,
     "start_time": "2025-04-13T08:34:48.467460",
     "status": "completed"
    },
    "tags": []
   },
   "source": [
    "> # change directory path of images"
   ]
  },
  {
   "cell_type": "markdown",
   "id": "18c6f548",
   "metadata": {
    "papermill": {
     "duration": 0.016727,
     "end_time": "2025-04-13T08:34:48.517333",
     "exception": false,
     "start_time": "2025-04-13T08:34:48.500606",
     "status": "completed"
    },
    "tags": []
   },
   "source": [
    "> ------\n",
    "\n",
    "> #### Correct Path"
   ]
  },
  {
   "cell_type": "code",
   "execution_count": 8,
   "id": "605d1a8c",
   "metadata": {
    "execution": {
     "iopub.execute_input": "2025-04-13T08:34:48.599892Z",
     "iopub.status.busy": "2025-04-13T08:34:48.599542Z",
     "iopub.status.idle": "2025-04-13T08:34:48.604386Z",
     "shell.execute_reply": "2025-04-13T08:34:48.603347Z"
    },
    "papermill": {
     "duration": 0.02516,
     "end_time": "2025-04-13T08:34:48.606248",
     "exception": false,
     "start_time": "2025-04-13T08:34:48.581088",
     "status": "completed"
    },
    "tags": []
   },
   "outputs": [],
   "source": [
    "def replace_path(sample, old_path, new_path):\n",
    "    return sample.replace(old_path, new_path, regex=True)"
   ]
  },
  {
   "cell_type": "code",
   "execution_count": 10,
   "id": "ecf4ec9a",
   "metadata": {
    "execution": {
     "iopub.execute_input": "2025-04-13T08:34:48.686060Z",
     "iopub.status.busy": "2025-04-13T08:34:48.685076Z",
     "iopub.status.idle": "2025-04-13T08:34:48.689717Z",
     "shell.execute_reply": "2025-04-13T08:34:48.688889Z"
    },
    "papermill": {
     "duration": 0.024793,
     "end_time": "2025-04-13T08:34:48.691588",
     "exception": false,
     "start_time": "2025-04-13T08:34:48.666795",
     "status": "completed"
    },
    "tags": []
   },
   "outputs": [],
   "source": [
    "correct_dir = \"./data/jpeg\""
   ]
  },
  {
   "cell_type": "code",
   "execution_count": 11,
   "id": "c78e9afc",
   "metadata": {
    "execution": {
     "iopub.execute_input": "2025-04-13T08:34:48.726631Z",
     "iopub.status.busy": "2025-04-13T08:34:48.726281Z",
     "iopub.status.idle": "2025-04-13T08:34:48.735741Z",
     "shell.execute_reply": "2025-04-13T08:34:48.734531Z"
    },
    "papermill": {
     "duration": 0.029984,
     "end_time": "2025-04-13T08:34:48.738233",
     "exception": false,
     "start_time": "2025-04-13T08:34:48.708249",
     "status": "completed"
    },
    "tags": []
   },
   "outputs": [
    {
     "name": "stdout",
     "output_type": "stream",
     "text": [
      "Cropped Images paths:\n",
      "./data/jpeg/1.3.6.1.4.1.9590.100.1.2.129308726812851964007517874181459556304/1-172.jpg\n"
     ]
    }
   ],
   "source": [
    "cropped_images = replace_path(cropped_images, \"CBIS-DDSM/jpeg\", correct_dir)\n",
    "print('Cropped Images paths:')\n",
    "print(cropped_images.iloc[0])"
   ]
  },
  {
   "cell_type": "code",
   "execution_count": 12,
   "id": "c45a2bed",
   "metadata": {
    "execution": {
     "iopub.execute_input": "2025-04-13T08:34:48.775045Z",
     "iopub.status.busy": "2025-04-13T08:34:48.774094Z",
     "iopub.status.idle": "2025-04-13T08:34:48.782220Z",
     "shell.execute_reply": "2025-04-13T08:34:48.781364Z"
    },
    "papermill": {
     "duration": 0.029115,
     "end_time": "2025-04-13T08:34:48.784744",
     "exception": false,
     "start_time": "2025-04-13T08:34:48.755629",
     "status": "completed"
    },
    "tags": []
   },
   "outputs": [
    {
     "name": "stdout",
     "output_type": "stream",
     "text": [
      "\n",
      "Full mammo Images paths:\n",
      "./data/jpeg/1.3.6.1.4.1.9590.100.1.2.248386742010678582309005372213277814849/1-249.jpg\n"
     ]
    }
   ],
   "source": [
    "full_mammogram = replace_path(full_mammogram, \"CBIS-DDSM/jpeg\", correct_dir)\n",
    "print('\\nFull mammo Images paths:')\n",
    "print(full_mammogram.iloc[0])"
   ]
  },
  {
   "cell_type": "code",
   "execution_count": 13,
   "id": "f9a51821",
   "metadata": {
    "execution": {
     "iopub.execute_input": "2025-04-13T08:34:48.819301Z",
     "iopub.status.busy": "2025-04-13T08:34:48.818411Z",
     "iopub.status.idle": "2025-04-13T08:34:48.826990Z",
     "shell.execute_reply": "2025-04-13T08:34:48.825959Z"
    },
    "papermill": {
     "duration": 0.028006,
     "end_time": "2025-04-13T08:34:48.829162",
     "exception": false,
     "start_time": "2025-04-13T08:34:48.801156",
     "status": "completed"
    },
    "tags": []
   },
   "outputs": [
    {
     "name": "stdout",
     "output_type": "stream",
     "text": [
      "\n",
      "ROI Mask Images paths:\n",
      "./data/jpeg/1.3.6.1.4.1.9590.100.1.2.153339052913121382622526066491844156138/2-270.jpg\n"
     ]
    }
   ],
   "source": [
    "roi_mask = replace_path(roi_mask, \"CBIS-DDSM/jpeg\", correct_dir)\n",
    "print('\\nROI Mask Images paths:')\n",
    "print(roi_mask.iloc[0])"
   ]
  },
  {
   "cell_type": "markdown",
   "id": "6fd879d6",
   "metadata": {
    "papermill": {
     "duration": 0.016725,
     "end_time": "2025-04-13T08:34:48.862594",
     "exception": false,
     "start_time": "2025-04-13T08:34:48.845869",
     "status": "completed"
    },
    "tags": []
   },
   "source": [
    "> # organize image paths\n",
    "\n",
    ">> ---\n",
    "\n",
    ">> By get image file name"
   ]
  },
  {
   "cell_type": "code",
   "execution_count": 20,
   "id": "af6c3ed3",
   "metadata": {
    "execution": {
     "iopub.execute_input": "2025-04-13T08:34:48.897504Z",
     "iopub.status.busy": "2025-04-13T08:34:48.897067Z",
     "iopub.status.idle": "2025-04-13T08:34:48.902985Z",
     "shell.execute_reply": "2025-04-13T08:34:48.901792Z"
    },
    "papermill": {
     "duration": 0.025972,
     "end_time": "2025-04-13T08:34:48.904974",
     "exception": false,
     "start_time": "2025-04-13T08:34:48.879002",
     "status": "completed"
    },
    "tags": []
   },
   "outputs": [],
   "source": [
    "def get_image_file_name(data, new_dict):\n",
    "    \"\"\"\n",
    "    /kaggle\n",
    "    /input\n",
    "    /cbis-ddsm-breast-cancer-image-dataset\n",
    "    /jpeg\n",
    "    /1.3.6.1.4.1.9590.100.1.2.129308726812851964007517874181459556304 [5]\n",
    "    /1-172.jpg\n",
    "    \n",
    "    return path at index [5] after split depends on split('\\')\n",
    "    \"\"\"\n",
    "    for dicom in data:\n",
    "        key = dicom.split('/')[3]\n",
    "        # print(dicom.split('/'))\n",
    "#         print(key)\n",
    "        new_dict[key] = dicom\n",
    "    print(f\"the length of dataset ==> {len(new_dict.keys())}\")"
   ]
  },
  {
   "cell_type": "code",
   "execution_count": 21,
   "id": "ba0435b9",
   "metadata": {
    "execution": {
     "iopub.execute_input": "2025-04-13T08:34:48.940578Z",
     "iopub.status.busy": "2025-04-13T08:34:48.940141Z",
     "iopub.status.idle": "2025-04-13T08:34:48.953207Z",
     "shell.execute_reply": "2025-04-13T08:34:48.952165Z"
    },
    "papermill": {
     "duration": 0.03302,
     "end_time": "2025-04-13T08:34:48.955045",
     "exception": false,
     "start_time": "2025-04-13T08:34:48.922025",
     "status": "completed"
    },
    "tags": []
   },
   "outputs": [
    {
     "name": "stdout",
     "output_type": "stream",
     "text": [
      "the length of dataset ==> 3567\n",
      "the length of dataset ==> 2857\n",
      "the length of dataset ==> 3247\n"
     ]
    }
   ],
   "source": [
    "cropped_images_dict = dict()\n",
    "full_mammo_dict = dict()\n",
    "roi_img_dict = dict()\n",
    "\n",
    "get_image_file_name(cropped_images, cropped_images_dict)\n",
    "get_image_file_name(full_mammogram, full_mammo_dict)\n",
    "get_image_file_name(roi_mask, roi_img_dict)"
   ]
  },
  {
   "cell_type": "markdown",
   "id": "ba7892fa",
   "metadata": {
    "papermill": {
     "duration": 0.017121,
     "end_time": "2025-04-13T08:34:48.989374",
     "exception": false,
     "start_time": "2025-04-13T08:34:48.972253",
     "status": "completed"
    },
    "tags": []
   },
   "source": [
    "> ------\n",
    "\n",
    "> #### View keys"
   ]
  },
  {
   "cell_type": "code",
   "execution_count": 15,
   "id": "76f52575",
   "metadata": {
    "execution": {
     "iopub.execute_input": "2025-04-13T08:34:49.024977Z",
     "iopub.status.busy": "2025-04-13T08:34:49.024634Z",
     "iopub.status.idle": "2025-04-13T08:34:49.240928Z",
     "shell.execute_reply": "2025-04-13T08:34:49.240039Z"
    },
    "papermill": {
     "duration": 0.236443,
     "end_time": "2025-04-13T08:34:49.242859",
     "exception": false,
     "start_time": "2025-04-13T08:34:49.006416",
     "status": "completed"
    },
    "tags": []
   },
   "outputs": [
    {
     "data": {
      "text/plain": [
       "0"
      ]
     },
     "execution_count": 15,
     "metadata": {},
     "output_type": "execute_result"
    }
   ],
   "source": [
    "del cropped_images, full_mammogram, roi_mask\n",
    "gc.collect()"
   ]
  },
  {
   "cell_type": "markdown",
   "id": "fc7aff2a",
   "metadata": {
    "papermill": {
     "duration": 0.021996,
     "end_time": "2025-04-13T08:34:49.281993",
     "exception": false,
     "start_time": "2025-04-13T08:34:49.259997",
     "status": "completed"
    },
    "tags": []
   },
   "source": [
    "> ------\n",
    "\n",
    "> # fix image paths"
   ]
  },
  {
   "cell_type": "code",
   "execution_count": 22,
   "id": "aa676336",
   "metadata": {
    "execution": {
     "iopub.execute_input": "2025-04-13T08:34:49.318900Z",
     "iopub.status.busy": "2025-04-13T08:34:49.318018Z",
     "iopub.status.idle": "2025-04-13T08:34:49.324320Z",
     "shell.execute_reply": "2025-04-13T08:34:49.323420Z"
    },
    "papermill": {
     "duration": 0.025958,
     "end_time": "2025-04-13T08:34:49.326110",
     "exception": false,
     "start_time": "2025-04-13T08:34:49.300152",
     "status": "completed"
    },
    "tags": []
   },
   "outputs": [],
   "source": [
    "def fix_image_path(data):\n",
    "    \"\"\"Correct dicom paths to correct image paths.\"\"\"\n",
    "    for indx, image in enumerate(data.values):\n",
    "#         print(f\"Image Path: {image[11]}\")\n",
    "\n",
    "        img_name = image[11].split('/')[2]\n",
    "#         print(f\"Looking for key: {img_name}\")  # Debugging step\n",
    "\n",
    "        if img_name in full_mammo_dict:\n",
    "            data.iloc[indx, 11] = full_mammo_dict[img_name]\n",
    "        else:\n",
    "            data.iloc[indx, 11] = None\n",
    "#             print(f\"KeyError: '{img_name}' not found in full_mammo_dict\")  # Debugging step\n",
    "        \n",
    "        img_name = image[12].split('/')[2]\n",
    "        if img_name in cropped_images_dict:\n",
    "            data.iloc[indx, 12] = cropped_images_dict[img_name]\n",
    "        else:\n",
    "            data.iloc[indx, 12] = None\n",
    "#             print(f\"KeyError: '{img_name}' not found in cropped_images_dict\")  # Debugging step"
   ]
  },
  {
   "cell_type": "markdown",
   "id": "2c507bbc",
   "metadata": {
    "papermill": {
     "duration": 0.016787,
     "end_time": "2025-04-13T08:34:49.359674",
     "exception": false,
     "start_time": "2025-04-13T08:34:49.342887",
     "status": "completed"
    },
    "tags": []
   },
   "source": [
    "> ------\n",
    "\n",
    "> # load the mass dataset"
   ]
  },
  {
   "cell_type": "code",
   "execution_count": 24,
   "id": "38d12453",
   "metadata": {
    "execution": {
     "iopub.execute_input": "2025-04-13T08:34:49.395744Z",
     "iopub.status.busy": "2025-04-13T08:34:49.395315Z",
     "iopub.status.idle": "2025-04-13T08:34:49.449003Z",
     "shell.execute_reply": "2025-04-13T08:34:49.448121Z"
    },
    "papermill": {
     "duration": 0.074233,
     "end_time": "2025-04-13T08:34:49.451462",
     "exception": false,
     "start_time": "2025-04-13T08:34:49.377229",
     "status": "completed"
    },
    "tags": []
   },
   "outputs": [],
   "source": [
    "mass_train = pd.read_csv(\"./data/csv/mass_case_description_train_set.csv\")\n",
    "mass_test  = pd.read_csv(\"./data/csv/mass_case_description_test_set.csv\")"
   ]
  },
  {
   "cell_type": "markdown",
   "id": "7fd0ba05",
   "metadata": {
    "papermill": {
     "duration": 0.017242,
     "end_time": "2025-04-13T08:34:49.488085",
     "exception": false,
     "start_time": "2025-04-13T08:34:49.470843",
     "status": "completed"
    },
    "tags": []
   },
   "source": [
    "> ------\n",
    "\n",
    "> #### apply to datasets"
   ]
  },
  {
   "cell_type": "code",
   "execution_count": 25,
   "id": "054900e5",
   "metadata": {
    "execution": {
     "iopub.execute_input": "2025-04-13T08:34:49.524838Z",
     "iopub.status.busy": "2025-04-13T08:34:49.524462Z",
     "iopub.status.idle": "2025-04-13T08:34:49.948457Z",
     "shell.execute_reply": "2025-04-13T08:34:49.947614Z"
    },
    "papermill": {
     "duration": 0.445221,
     "end_time": "2025-04-13T08:34:49.950799",
     "exception": false,
     "start_time": "2025-04-13T08:34:49.505578",
     "status": "completed"
    },
    "tags": []
   },
   "outputs": [],
   "source": [
    "fix_image_path(mass_train)"
   ]
  },
  {
   "cell_type": "markdown",
   "id": "43d4b338",
   "metadata": {
    "papermill": {
     "duration": 0.017345,
     "end_time": "2025-04-13T08:34:49.985353",
     "exception": false,
     "start_time": "2025-04-13T08:34:49.968008",
     "status": "completed"
    },
    "tags": []
   },
   "source": [
    "> ------\n",
    "\n",
    "> #### rename columns"
   ]
  },
  {
   "cell_type": "code",
   "execution_count": 26,
   "id": "b713aaa4",
   "metadata": {
    "execution": {
     "iopub.execute_input": "2025-04-13T08:34:50.023021Z",
     "iopub.status.busy": "2025-04-13T08:34:50.021998Z",
     "iopub.status.idle": "2025-04-13T08:34:50.028307Z",
     "shell.execute_reply": "2025-04-13T08:34:50.027451Z"
    },
    "papermill": {
     "duration": 0.027312,
     "end_time": "2025-04-13T08:34:50.030242",
     "exception": false,
     "start_time": "2025-04-13T08:34:50.002930",
     "status": "completed"
    },
    "tags": []
   },
   "outputs": [],
   "source": [
    "mass_train = mass_train.rename(columns={'left or right breast': 'left_or_right_breast',\n",
    "                                        'image view': 'image_view',\n",
    "                                        'abnormality id': 'abnormality_id',\n",
    "                                        'abnormality type': 'abnormality_type',\n",
    "                                        'mass shape': 'mass_shape',\n",
    "                                        'mass margins': 'mass_margins',\n",
    "                                        'image file path': 'image_file_path',\n",
    "                                        'cropped image file path': 'cropped_image_file_path',\n",
    "                                        'ROI mask file path': 'ROI_mask_file_path'})\n"
   ]
  },
  {
   "cell_type": "markdown",
   "id": "d7f0a08c",
   "metadata": {
    "papermill": {
     "duration": 0.016283,
     "end_time": "2025-04-13T08:34:50.062677",
     "exception": false,
     "start_time": "2025-04-13T08:34:50.046394",
     "status": "completed"
    },
    "tags": []
   },
   "source": [
    "> ------\n",
    "\n",
    "> #### view mass_test"
   ]
  },
  {
   "cell_type": "code",
   "execution_count": 27,
   "id": "840a0ee1",
   "metadata": {
    "execution": {
     "iopub.execute_input": "2025-04-13T08:34:50.099074Z",
     "iopub.status.busy": "2025-04-13T08:34:50.098427Z",
     "iopub.status.idle": "2025-04-13T08:34:50.227665Z",
     "shell.execute_reply": "2025-04-13T08:34:50.226762Z"
    },
    "papermill": {
     "duration": 0.150465,
     "end_time": "2025-04-13T08:34:50.229990",
     "exception": false,
     "start_time": "2025-04-13T08:34:50.079525",
     "status": "completed"
    },
    "tags": []
   },
   "outputs": [],
   "source": [
    "fix_image_path(mass_test)"
   ]
  },
  {
   "cell_type": "markdown",
   "id": "158d68fd",
   "metadata": {
    "papermill": {
     "duration": 0.016639,
     "end_time": "2025-04-13T08:34:50.264017",
     "exception": false,
     "start_time": "2025-04-13T08:34:50.247378",
     "status": "completed"
    },
    "tags": []
   },
   "source": [
    "> ------\n",
    "\n",
    "> #### # rename columns"
   ]
  },
  {
   "cell_type": "code",
   "execution_count": 28,
   "id": "c52e9bdd",
   "metadata": {
    "execution": {
     "iopub.execute_input": "2025-04-13T08:34:50.299326Z",
     "iopub.status.busy": "2025-04-13T08:34:50.298934Z",
     "iopub.status.idle": "2025-04-13T08:34:50.305567Z",
     "shell.execute_reply": "2025-04-13T08:34:50.304472Z"
    },
    "papermill": {
     "duration": 0.02713,
     "end_time": "2025-04-13T08:34:50.307750",
     "exception": false,
     "start_time": "2025-04-13T08:34:50.280620",
     "status": "completed"
    },
    "tags": []
   },
   "outputs": [],
   "source": [
    "mass_test = mass_test.rename(columns={'left or right breast': 'left_or_right_breast',\n",
    "                                      'image view': 'image_view',\n",
    "                                      'abnormality id': 'abnormality_id',\n",
    "                                      'abnormality type': 'abnormality_type',\n",
    "                                      'mass shape': 'mass_shape',\n",
    "                                      'mass margins': 'mass_margins',\n",
    "                                      'image file path': 'image_file_path',\n",
    "                                      'cropped image file path': 'cropped_image_file_path',\n",
    "                                      'ROI mask file path': 'ROI_mask_file_path'})\n",
    "\n"
   ]
  },
  {
   "cell_type": "markdown",
   "id": "93b9ee3e",
   "metadata": {
    "papermill": {
     "duration": 0.016307,
     "end_time": "2025-04-13T08:34:50.341240",
     "exception": false,
     "start_time": "2025-04-13T08:34:50.324933",
     "status": "completed"
    },
    "tags": []
   },
   "source": [
    "> -------\n",
    "\n",
    "> #### check datasets shape"
   ]
  },
  {
   "cell_type": "code",
   "execution_count": 29,
   "id": "06afc42b",
   "metadata": {
    "execution": {
     "iopub.execute_input": "2025-04-13T08:34:50.377640Z",
     "iopub.status.busy": "2025-04-13T08:34:50.377258Z",
     "iopub.status.idle": "2025-04-13T08:34:50.382503Z",
     "shell.execute_reply": "2025-04-13T08:34:50.381478Z"
    },
    "papermill": {
     "duration": 0.02539,
     "end_time": "2025-04-13T08:34:50.384138",
     "exception": false,
     "start_time": "2025-04-13T08:34:50.358748",
     "status": "completed"
    },
    "tags": []
   },
   "outputs": [
    {
     "name": "stdout",
     "output_type": "stream",
     "text": [
      "Shape of mass_train: (1318, 14)\n",
      "Shape of mass_test: (378, 14)\n"
     ]
    }
   ],
   "source": [
    "print(f'Shape of mass_train: {mass_train.shape}')\n",
    "print(f'Shape of mass_test: {mass_test.shape}')"
   ]
  },
  {
   "cell_type": "markdown",
   "id": "f4da392b",
   "metadata": {
    "papermill": {
     "duration": 0.016885,
     "end_time": "2025-04-13T08:34:50.418358",
     "exception": false,
     "start_time": "2025-04-13T08:34:50.401473",
     "status": "completed"
    },
    "tags": []
   },
   "source": [
    "> ------\n",
    "\n",
    "> # load the calc dataset"
   ]
  },
  {
   "cell_type": "code",
   "execution_count": 30,
   "id": "4564c291",
   "metadata": {
    "execution": {
     "iopub.execute_input": "2025-04-13T08:34:50.454367Z",
     "iopub.status.busy": "2025-04-13T08:34:50.453983Z",
     "iopub.status.idle": "2025-04-13T08:34:50.510749Z",
     "shell.execute_reply": "2025-04-13T08:34:50.509820Z"
    },
    "papermill": {
     "duration": 0.077269,
     "end_time": "2025-04-13T08:34:50.512867",
     "exception": false,
     "start_time": "2025-04-13T08:34:50.435598",
     "status": "completed"
    },
    "tags": []
   },
   "outputs": [],
   "source": [
    "calc_train = pd.read_csv(\"./data/csv/calc_case_description_train_set.csv\")\n",
    "calc_test  = pd.read_csv(\"./data/csv/calc_case_description_test_set.csv\")"
   ]
  },
  {
   "cell_type": "markdown",
   "id": "2b84b8b1",
   "metadata": {
    "papermill": {
     "duration": 0.016843,
     "end_time": "2025-04-13T08:34:50.547384",
     "exception": false,
     "start_time": "2025-04-13T08:34:50.530541",
     "status": "completed"
    },
    "tags": []
   },
   "source": [
    "> --------\n",
    "\n",
    "> #### Rename Columns"
   ]
  },
  {
   "cell_type": "code",
   "execution_count": 31,
   "id": "3e2e7091",
   "metadata": {
    "execution": {
     "iopub.execute_input": "2025-04-13T08:34:50.584325Z",
     "iopub.status.busy": "2025-04-13T08:34:50.583913Z",
     "iopub.status.idle": "2025-04-13T08:34:50.590460Z",
     "shell.execute_reply": "2025-04-13T08:34:50.589607Z"
    },
    "papermill": {
     "duration": 0.02721,
     "end_time": "2025-04-13T08:34:50.592248",
     "exception": false,
     "start_time": "2025-04-13T08:34:50.565038",
     "status": "completed"
    },
    "tags": []
   },
   "outputs": [],
   "source": [
    "calc_train = calc_train.rename(columns={'left or right breast': 'left_or_right_breast',\n",
    "                                        'image view': 'image_view',\n",
    "                                        'abnormality id': 'abnormality_id',\n",
    "                                        'abnormality type': 'abnormality_type',\n",
    "                                        'mass shape': 'mass_shape',\n",
    "                                        'mass margins': 'mass_margins',\n",
    "                                        'image file path': 'image_file_path',\n",
    "                                        'cropped image file path': 'cropped_image_file_path',\n",
    "                                        'ROI mask file path': 'ROI_mask_file_path'})\n"
   ]
  },
  {
   "cell_type": "code",
   "execution_count": 32,
   "id": "8cad541c",
   "metadata": {
    "execution": {
     "iopub.execute_input": "2025-04-13T08:34:50.629165Z",
     "iopub.status.busy": "2025-04-13T08:34:50.628760Z",
     "iopub.status.idle": "2025-04-13T08:34:51.143423Z",
     "shell.execute_reply": "2025-04-13T08:34:51.142553Z"
    },
    "papermill": {
     "duration": 0.535838,
     "end_time": "2025-04-13T08:34:51.145646",
     "exception": false,
     "start_time": "2025-04-13T08:34:50.609808",
     "status": "completed"
    },
    "tags": []
   },
   "outputs": [],
   "source": [
    "fix_image_path(calc_train)"
   ]
  },
  {
   "cell_type": "markdown",
   "id": "4ec40685",
   "metadata": {
    "papermill": {
     "duration": 0.016965,
     "end_time": "2025-04-13T08:34:51.181975",
     "exception": false,
     "start_time": "2025-04-13T08:34:51.165010",
     "status": "completed"
    },
    "tags": []
   },
   "source": [
    "> --------\n",
    "\n",
    "> #### Rename Columns"
   ]
  },
  {
   "cell_type": "code",
   "execution_count": 33,
   "id": "6a766958",
   "metadata": {
    "execution": {
     "iopub.execute_input": "2025-04-13T08:34:51.217233Z",
     "iopub.status.busy": "2025-04-13T08:34:51.216839Z",
     "iopub.status.idle": "2025-04-13T08:34:51.222828Z",
     "shell.execute_reply": "2025-04-13T08:34:51.221961Z"
    },
    "papermill": {
     "duration": 0.025983,
     "end_time": "2025-04-13T08:34:51.224622",
     "exception": false,
     "start_time": "2025-04-13T08:34:51.198639",
     "status": "completed"
    },
    "tags": []
   },
   "outputs": [],
   "source": [
    "calc_test = calc_test.rename(columns={'left or right breast': 'left_or_right_breast',\n",
    "                                      'image view': 'image_view',\n",
    "                                      'abnormality id': 'abnormality_id',\n",
    "                                      'abnormality type': 'abnormality_type',\n",
    "                                      'mass shape': 'mass_shape',\n",
    "                                      'mass margins': 'mass_margins',\n",
    "                                      'image file path': 'image_file_path',\n",
    "                                      'cropped image file path': 'cropped_image_file_path',\n",
    "                                      'ROI mask file path': 'ROI_mask_file_path'})\n"
   ]
  },
  {
   "cell_type": "code",
   "execution_count": 34,
   "id": "04fdba2e",
   "metadata": {
    "execution": {
     "iopub.execute_input": "2025-04-13T08:34:51.259741Z",
     "iopub.status.busy": "2025-04-13T08:34:51.259355Z",
     "iopub.status.idle": "2025-04-13T08:34:51.370740Z",
     "shell.execute_reply": "2025-04-13T08:34:51.369811Z"
    },
    "papermill": {
     "duration": 0.131719,
     "end_time": "2025-04-13T08:34:51.372974",
     "exception": false,
     "start_time": "2025-04-13T08:34:51.241255",
     "status": "completed"
    },
    "tags": []
   },
   "outputs": [],
   "source": [
    "fix_image_path(calc_test)"
   ]
  },
  {
   "cell_type": "code",
   "execution_count": 35,
   "id": "9def9479",
   "metadata": {
    "execution": {
     "iopub.execute_input": "2025-04-13T08:34:51.410239Z",
     "iopub.status.busy": "2025-04-13T08:34:51.409818Z",
     "iopub.status.idle": "2025-04-13T08:34:51.415224Z",
     "shell.execute_reply": "2025-04-13T08:34:51.414263Z"
    },
    "papermill": {
     "duration": 0.026665,
     "end_time": "2025-04-13T08:34:51.417620",
     "exception": false,
     "start_time": "2025-04-13T08:34:51.390955",
     "status": "completed"
    },
    "tags": []
   },
   "outputs": [
    {
     "name": "stdout",
     "output_type": "stream",
     "text": [
      "Shape of mass_train: (1546, 14)\n",
      "Shape of mass_test: (326, 14)\n"
     ]
    }
   ],
   "source": [
    "print(f'Shape of mass_train: {calc_train.shape}')\n",
    "print(f'Shape of mass_test: {calc_test.shape}')"
   ]
  },
  {
   "cell_type": "markdown",
   "id": "2d5a2566",
   "metadata": {
    "papermill": {
     "duration": 0.017299,
     "end_time": "2025-04-13T08:34:51.452147",
     "exception": false,
     "start_time": "2025-04-13T08:34:51.434848",
     "status": "completed"
    },
    "tags": []
   },
   "source": [
    "> ------\n",
    "\n",
    "> ## Merge datasets"
   ]
  },
  {
   "cell_type": "code",
   "execution_count": 48,
   "id": "7439b41e",
   "metadata": {},
   "outputs": [
    {
     "data": {
      "text/html": [
       "<div>\n",
       "<style scoped>\n",
       "    .dataframe tbody tr th:only-of-type {\n",
       "        vertical-align: middle;\n",
       "    }\n",
       "\n",
       "    .dataframe tbody tr th {\n",
       "        vertical-align: top;\n",
       "    }\n",
       "\n",
       "    .dataframe thead th {\n",
       "        text-align: right;\n",
       "    }\n",
       "</style>\n",
       "<table border=\"1\" class=\"dataframe\">\n",
       "  <thead>\n",
       "    <tr style=\"text-align: right;\">\n",
       "      <th></th>\n",
       "      <th>patient_id</th>\n",
       "      <th>breast_density</th>\n",
       "      <th>left_or_right_breast</th>\n",
       "      <th>image_view</th>\n",
       "      <th>abnormality_id</th>\n",
       "      <th>abnormality_type</th>\n",
       "      <th>mass_shape</th>\n",
       "      <th>mass_margins</th>\n",
       "      <th>assessment</th>\n",
       "      <th>pathology</th>\n",
       "      <th>subtlety</th>\n",
       "      <th>image_file_path</th>\n",
       "      <th>cropped_image_file_path</th>\n",
       "      <th>ROI_mask_file_path</th>\n",
       "    </tr>\n",
       "  </thead>\n",
       "  <tbody>\n",
       "    <tr>\n",
       "      <th>0</th>\n",
       "      <td>P_00001</td>\n",
       "      <td>3</td>\n",
       "      <td>LEFT</td>\n",
       "      <td>CC</td>\n",
       "      <td>1</td>\n",
       "      <td>mass</td>\n",
       "      <td>IRREGULAR-ARCHITECTURAL_DISTORTION</td>\n",
       "      <td>SPICULATED</td>\n",
       "      <td>4</td>\n",
       "      <td>MALIGNANT</td>\n",
       "      <td>4</td>\n",
       "      <td>./data/jpeg/1.3.6.1.4.1.9590.100.1.2.342386194...</td>\n",
       "      <td>./data/jpeg/1.3.6.1.4.1.9590.100.1.2.296736403...</td>\n",
       "      <td>Mass-Training_P_00001_LEFT_CC_1/1.3.6.1.4.1.95...</td>\n",
       "    </tr>\n",
       "    <tr>\n",
       "      <th>1</th>\n",
       "      <td>P_00001</td>\n",
       "      <td>3</td>\n",
       "      <td>LEFT</td>\n",
       "      <td>MLO</td>\n",
       "      <td>1</td>\n",
       "      <td>mass</td>\n",
       "      <td>IRREGULAR-ARCHITECTURAL_DISTORTION</td>\n",
       "      <td>SPICULATED</td>\n",
       "      <td>4</td>\n",
       "      <td>MALIGNANT</td>\n",
       "      <td>4</td>\n",
       "      <td>./data/jpeg/1.3.6.1.4.1.9590.100.1.2.359308329...</td>\n",
       "      <td>./data/jpeg/1.3.6.1.4.1.9590.100.1.2.227955274...</td>\n",
       "      <td>Mass-Training_P_00001_LEFT_MLO_1/1.3.6.1.4.1.9...</td>\n",
       "    </tr>\n",
       "    <tr>\n",
       "      <th>2</th>\n",
       "      <td>P_00004</td>\n",
       "      <td>3</td>\n",
       "      <td>LEFT</td>\n",
       "      <td>CC</td>\n",
       "      <td>1</td>\n",
       "      <td>mass</td>\n",
       "      <td>ARCHITECTURAL_DISTORTION</td>\n",
       "      <td>ILL_DEFINED</td>\n",
       "      <td>4</td>\n",
       "      <td>BENIGN</td>\n",
       "      <td>3</td>\n",
       "      <td>./data/jpeg/1.3.6.1.4.1.9590.100.1.2.891800462...</td>\n",
       "      <td>./data/jpeg/1.3.6.1.4.1.9590.100.1.2.429120414...</td>\n",
       "      <td>Mass-Training_P_00004_LEFT_CC_1/1.3.6.1.4.1.95...</td>\n",
       "    </tr>\n",
       "    <tr>\n",
       "      <th>3</th>\n",
       "      <td>P_00004</td>\n",
       "      <td>3</td>\n",
       "      <td>LEFT</td>\n",
       "      <td>MLO</td>\n",
       "      <td>1</td>\n",
       "      <td>mass</td>\n",
       "      <td>ARCHITECTURAL_DISTORTION</td>\n",
       "      <td>ILL_DEFINED</td>\n",
       "      <td>4</td>\n",
       "      <td>BENIGN</td>\n",
       "      <td>3</td>\n",
       "      <td>./data/jpeg/1.3.6.1.4.1.9590.100.1.2.295360926...</td>\n",
       "      <td>./data/jpeg/1.3.6.1.4.1.9590.100.1.2.115134232...</td>\n",
       "      <td>Mass-Training_P_00004_LEFT_MLO_1/1.3.6.1.4.1.9...</td>\n",
       "    </tr>\n",
       "    <tr>\n",
       "      <th>4</th>\n",
       "      <td>P_00004</td>\n",
       "      <td>3</td>\n",
       "      <td>RIGHT</td>\n",
       "      <td>MLO</td>\n",
       "      <td>1</td>\n",
       "      <td>mass</td>\n",
       "      <td>OVAL</td>\n",
       "      <td>CIRCUMSCRIBED</td>\n",
       "      <td>4</td>\n",
       "      <td>BENIGN</td>\n",
       "      <td>5</td>\n",
       "      <td>./data/jpeg/1.3.6.1.4.1.9590.100.1.2.410524754...</td>\n",
       "      <td>./data/jpeg/1.3.6.1.4.1.9590.100.1.2.128573663...</td>\n",
       "      <td>Mass-Training_P_00004_RIGHT_MLO_1/1.3.6.1.4.1....</td>\n",
       "    </tr>\n",
       "    <tr>\n",
       "      <th>...</th>\n",
       "      <td>...</td>\n",
       "      <td>...</td>\n",
       "      <td>...</td>\n",
       "      <td>...</td>\n",
       "      <td>...</td>\n",
       "      <td>...</td>\n",
       "      <td>...</td>\n",
       "      <td>...</td>\n",
       "      <td>...</td>\n",
       "      <td>...</td>\n",
       "      <td>...</td>\n",
       "      <td>...</td>\n",
       "      <td>...</td>\n",
       "      <td>...</td>\n",
       "    </tr>\n",
       "    <tr>\n",
       "      <th>1313</th>\n",
       "      <td>P_02033</td>\n",
       "      <td>2</td>\n",
       "      <td>RIGHT</td>\n",
       "      <td>MLO</td>\n",
       "      <td>1</td>\n",
       "      <td>mass</td>\n",
       "      <td>IRREGULAR</td>\n",
       "      <td>ILL_DEFINED</td>\n",
       "      <td>3</td>\n",
       "      <td>MALIGNANT</td>\n",
       "      <td>4</td>\n",
       "      <td>./data/jpeg/1.3.6.1.4.1.9590.100.1.2.399742535...</td>\n",
       "      <td>./data/jpeg/1.3.6.1.4.1.9590.100.1.2.387670051...</td>\n",
       "      <td>Mass-Training_P_02033_RIGHT_MLO_1/1.3.6.1.4.1....</td>\n",
       "    </tr>\n",
       "    <tr>\n",
       "      <th>1314</th>\n",
       "      <td>P_02079</td>\n",
       "      <td>2</td>\n",
       "      <td>RIGHT</td>\n",
       "      <td>CC</td>\n",
       "      <td>1</td>\n",
       "      <td>mass</td>\n",
       "      <td>ROUND</td>\n",
       "      <td>SPICULATED</td>\n",
       "      <td>3</td>\n",
       "      <td>MALIGNANT</td>\n",
       "      <td>5</td>\n",
       "      <td>./data/jpeg/1.3.6.1.4.1.9590.100.1.2.174087037...</td>\n",
       "      <td>./data/jpeg/1.3.6.1.4.1.9590.100.1.2.683211001...</td>\n",
       "      <td>Mass-Training_P_02079_RIGHT_CC_1/1.3.6.1.4.1.9...</td>\n",
       "    </tr>\n",
       "    <tr>\n",
       "      <th>1315</th>\n",
       "      <td>P_02079</td>\n",
       "      <td>2</td>\n",
       "      <td>RIGHT</td>\n",
       "      <td>MLO</td>\n",
       "      <td>1</td>\n",
       "      <td>mass</td>\n",
       "      <td>ROUND</td>\n",
       "      <td>SPICULATED</td>\n",
       "      <td>3</td>\n",
       "      <td>MALIGNANT</td>\n",
       "      <td>5</td>\n",
       "      <td>./data/jpeg/1.3.6.1.4.1.9590.100.1.2.412558050...</td>\n",
       "      <td>./data/jpeg/1.3.6.1.4.1.9590.100.1.2.375319587...</td>\n",
       "      <td>Mass-Training_P_02079_RIGHT_MLO_1/1.3.6.1.4.1....</td>\n",
       "    </tr>\n",
       "    <tr>\n",
       "      <th>1316</th>\n",
       "      <td>P_02092</td>\n",
       "      <td>2</td>\n",
       "      <td>LEFT</td>\n",
       "      <td>CC</td>\n",
       "      <td>1</td>\n",
       "      <td>mass</td>\n",
       "      <td>IRREGULAR</td>\n",
       "      <td>SPICULATED</td>\n",
       "      <td>3</td>\n",
       "      <td>MALIGNANT</td>\n",
       "      <td>2</td>\n",
       "      <td>./data/jpeg/1.3.6.1.4.1.9590.100.1.2.150311422...</td>\n",
       "      <td>./data/jpeg/1.3.6.1.4.1.9590.100.1.2.314202752...</td>\n",
       "      <td>Mass-Training_P_02092_LEFT_CC_1/1.3.6.1.4.1.95...</td>\n",
       "    </tr>\n",
       "    <tr>\n",
       "      <th>1317</th>\n",
       "      <td>P_02092</td>\n",
       "      <td>2</td>\n",
       "      <td>LEFT</td>\n",
       "      <td>MLO</td>\n",
       "      <td>1</td>\n",
       "      <td>mass</td>\n",
       "      <td>IRREGULAR</td>\n",
       "      <td>SPICULATED</td>\n",
       "      <td>3</td>\n",
       "      <td>MALIGNANT</td>\n",
       "      <td>2</td>\n",
       "      <td>./data/jpeg/1.3.6.1.4.1.9590.100.1.2.290251769...</td>\n",
       "      <td>./data/jpeg/1.3.6.1.4.1.9590.100.1.2.321062807...</td>\n",
       "      <td>Mass-Training_P_02092_LEFT_MLO_1/1.3.6.1.4.1.9...</td>\n",
       "    </tr>\n",
       "  </tbody>\n",
       "</table>\n",
       "<p>1318 rows × 14 columns</p>\n",
       "</div>"
      ],
      "text/plain": [
       "     patient_id  breast_density left_or_right_breast image_view  \\\n",
       "0       P_00001               3                 LEFT         CC   \n",
       "1       P_00001               3                 LEFT        MLO   \n",
       "2       P_00004               3                 LEFT         CC   \n",
       "3       P_00004               3                 LEFT        MLO   \n",
       "4       P_00004               3                RIGHT        MLO   \n",
       "...         ...             ...                  ...        ...   \n",
       "1313    P_02033               2                RIGHT        MLO   \n",
       "1314    P_02079               2                RIGHT         CC   \n",
       "1315    P_02079               2                RIGHT        MLO   \n",
       "1316    P_02092               2                 LEFT         CC   \n",
       "1317    P_02092               2                 LEFT        MLO   \n",
       "\n",
       "      abnormality_id abnormality_type                          mass_shape  \\\n",
       "0                  1             mass  IRREGULAR-ARCHITECTURAL_DISTORTION   \n",
       "1                  1             mass  IRREGULAR-ARCHITECTURAL_DISTORTION   \n",
       "2                  1             mass            ARCHITECTURAL_DISTORTION   \n",
       "3                  1             mass            ARCHITECTURAL_DISTORTION   \n",
       "4                  1             mass                                OVAL   \n",
       "...              ...              ...                                 ...   \n",
       "1313               1             mass                           IRREGULAR   \n",
       "1314               1             mass                               ROUND   \n",
       "1315               1             mass                               ROUND   \n",
       "1316               1             mass                           IRREGULAR   \n",
       "1317               1             mass                           IRREGULAR   \n",
       "\n",
       "       mass_margins  assessment  pathology  subtlety  \\\n",
       "0        SPICULATED           4  MALIGNANT         4   \n",
       "1        SPICULATED           4  MALIGNANT         4   \n",
       "2       ILL_DEFINED           4     BENIGN         3   \n",
       "3       ILL_DEFINED           4     BENIGN         3   \n",
       "4     CIRCUMSCRIBED           4     BENIGN         5   \n",
       "...             ...         ...        ...       ...   \n",
       "1313    ILL_DEFINED           3  MALIGNANT         4   \n",
       "1314     SPICULATED           3  MALIGNANT         5   \n",
       "1315     SPICULATED           3  MALIGNANT         5   \n",
       "1316     SPICULATED           3  MALIGNANT         2   \n",
       "1317     SPICULATED           3  MALIGNANT         2   \n",
       "\n",
       "                                        image_file_path  \\\n",
       "0     ./data/jpeg/1.3.6.1.4.1.9590.100.1.2.342386194...   \n",
       "1     ./data/jpeg/1.3.6.1.4.1.9590.100.1.2.359308329...   \n",
       "2     ./data/jpeg/1.3.6.1.4.1.9590.100.1.2.891800462...   \n",
       "3     ./data/jpeg/1.3.6.1.4.1.9590.100.1.2.295360926...   \n",
       "4     ./data/jpeg/1.3.6.1.4.1.9590.100.1.2.410524754...   \n",
       "...                                                 ...   \n",
       "1313  ./data/jpeg/1.3.6.1.4.1.9590.100.1.2.399742535...   \n",
       "1314  ./data/jpeg/1.3.6.1.4.1.9590.100.1.2.174087037...   \n",
       "1315  ./data/jpeg/1.3.6.1.4.1.9590.100.1.2.412558050...   \n",
       "1316  ./data/jpeg/1.3.6.1.4.1.9590.100.1.2.150311422...   \n",
       "1317  ./data/jpeg/1.3.6.1.4.1.9590.100.1.2.290251769...   \n",
       "\n",
       "                                cropped_image_file_path  \\\n",
       "0     ./data/jpeg/1.3.6.1.4.1.9590.100.1.2.296736403...   \n",
       "1     ./data/jpeg/1.3.6.1.4.1.9590.100.1.2.227955274...   \n",
       "2     ./data/jpeg/1.3.6.1.4.1.9590.100.1.2.429120414...   \n",
       "3     ./data/jpeg/1.3.6.1.4.1.9590.100.1.2.115134232...   \n",
       "4     ./data/jpeg/1.3.6.1.4.1.9590.100.1.2.128573663...   \n",
       "...                                                 ...   \n",
       "1313  ./data/jpeg/1.3.6.1.4.1.9590.100.1.2.387670051...   \n",
       "1314  ./data/jpeg/1.3.6.1.4.1.9590.100.1.2.683211001...   \n",
       "1315  ./data/jpeg/1.3.6.1.4.1.9590.100.1.2.375319587...   \n",
       "1316  ./data/jpeg/1.3.6.1.4.1.9590.100.1.2.314202752...   \n",
       "1317  ./data/jpeg/1.3.6.1.4.1.9590.100.1.2.321062807...   \n",
       "\n",
       "                                     ROI_mask_file_path  \n",
       "0     Mass-Training_P_00001_LEFT_CC_1/1.3.6.1.4.1.95...  \n",
       "1     Mass-Training_P_00001_LEFT_MLO_1/1.3.6.1.4.1.9...  \n",
       "2     Mass-Training_P_00004_LEFT_CC_1/1.3.6.1.4.1.95...  \n",
       "3     Mass-Training_P_00004_LEFT_MLO_1/1.3.6.1.4.1.9...  \n",
       "4     Mass-Training_P_00004_RIGHT_MLO_1/1.3.6.1.4.1....  \n",
       "...                                                 ...  \n",
       "1313  Mass-Training_P_02033_RIGHT_MLO_1/1.3.6.1.4.1....  \n",
       "1314  Mass-Training_P_02079_RIGHT_CC_1/1.3.6.1.4.1.9...  \n",
       "1315  Mass-Training_P_02079_RIGHT_MLO_1/1.3.6.1.4.1....  \n",
       "1316  Mass-Training_P_02092_LEFT_CC_1/1.3.6.1.4.1.95...  \n",
       "1317  Mass-Training_P_02092_LEFT_MLO_1/1.3.6.1.4.1.9...  \n",
       "\n",
       "[1318 rows x 14 columns]"
      ]
     },
     "execution_count": 48,
     "metadata": {},
     "output_type": "execute_result"
    }
   ],
   "source": [
    "mass_train"
   ]
  },
  {
   "cell_type": "code",
   "execution_count": 36,
   "id": "2b3a0d6c",
   "metadata": {
    "execution": {
     "iopub.execute_input": "2025-04-13T08:34:51.489560Z",
     "iopub.status.busy": "2025-04-13T08:34:51.488587Z",
     "iopub.status.idle": "2025-04-13T08:34:51.502203Z",
     "shell.execute_reply": "2025-04-13T08:34:51.500825Z"
    },
    "papermill": {
     "duration": 0.034431,
     "end_time": "2025-04-13T08:34:51.504320",
     "exception": false,
     "start_time": "2025-04-13T08:34:51.469889",
     "status": "completed"
    },
    "tags": []
   },
   "outputs": [],
   "source": [
    "full_dataset = pd.concat([mass_train, mass_test, calc_train, calc_test], axis=0)"
   ]
  },
  {
   "cell_type": "code",
   "execution_count": 30,
   "id": "f4db39cd",
   "metadata": {
    "execution": {
     "iopub.execute_input": "2025-04-13T08:34:51.540573Z",
     "iopub.status.busy": "2025-04-13T08:34:51.540144Z",
     "iopub.status.idle": "2025-04-13T08:34:51.762035Z",
     "shell.execute_reply": "2025-04-13T08:34:51.760975Z"
    },
    "papermill": {
     "duration": 0.242544,
     "end_time": "2025-04-13T08:34:51.764107",
     "exception": false,
     "start_time": "2025-04-13T08:34:51.521563",
     "status": "completed"
    },
    "tags": []
   },
   "outputs": [
    {
     "data": {
      "text/plain": [
       "0"
      ]
     },
     "execution_count": 30,
     "metadata": {},
     "output_type": "execute_result"
    }
   ],
   "source": [
    "del mass_train, mass_test, calc_train, calc_test\n",
    "gc.collect()"
   ]
  },
  {
   "cell_type": "markdown",
   "id": "74ff7177",
   "metadata": {
    "papermill": {
     "duration": 0.017456,
     "end_time": "2025-04-13T08:34:51.799569",
     "exception": false,
     "start_time": "2025-04-13T08:34:51.782113",
     "status": "completed"
    },
    "tags": []
   },
   "source": [
    "* > ## Create a binary mapper"
   ]
  },
  {
   "cell_type": "code",
   "execution_count": 37,
   "id": "7cf42887",
   "metadata": {
    "execution": {
     "iopub.execute_input": "2025-04-13T08:34:51.837977Z",
     "iopub.status.busy": "2025-04-13T08:34:51.836945Z",
     "iopub.status.idle": "2025-04-13T08:34:51.841964Z",
     "shell.execute_reply": "2025-04-13T08:34:51.840918Z"
    },
    "papermill": {
     "duration": 0.02626,
     "end_time": "2025-04-13T08:34:51.844031",
     "exception": false,
     "start_time": "2025-04-13T08:34:51.817771",
     "status": "completed"
    },
    "tags": []
   },
   "outputs": [],
   "source": [
    "class_mapper = {'MALIGNANT': 1, 'BENIGN': 0, 'BENIGN_WITHOUT_CALLBACK': 0} "
   ]
  },
  {
   "cell_type": "code",
   "execution_count": 49,
   "id": "79bee049",
   "metadata": {},
   "outputs": [
    {
     "name": "stderr",
     "output_type": "stream",
     "text": [
      "C:\\Users\\Hieu\\AppData\\Local\\Temp\\ipykernel_45808\\1245405883.py:1: FutureWarning: Downcasting behavior in `replace` is deprecated and will be removed in a future version. To retain the old behavior, explicitly call `result.infer_objects(copy=False)`. To opt-in to the future behavior, set `pd.set_option('future.no_silent_downcasting', True)`\n",
      "  mass_train['labels'] = mass_train['pathology'].replace(class_mapper).infer_objects(copy=False)\n",
      "C:\\Users\\Hieu\\AppData\\Local\\Temp\\ipykernel_45808\\1245405883.py:2: FutureWarning: Downcasting behavior in `replace` is deprecated and will be removed in a future version. To retain the old behavior, explicitly call `result.infer_objects(copy=False)`. To opt-in to the future behavior, set `pd.set_option('future.no_silent_downcasting', True)`\n",
      "  mass_test['labels'] = mass_test['pathology'].replace(class_mapper).infer_objects(copy=False)\n",
      "C:\\Users\\Hieu\\AppData\\Local\\Temp\\ipykernel_45808\\1245405883.py:3: FutureWarning: Downcasting behavior in `replace` is deprecated and will be removed in a future version. To retain the old behavior, explicitly call `result.infer_objects(copy=False)`. To opt-in to the future behavior, set `pd.set_option('future.no_silent_downcasting', True)`\n",
      "  calc_train['labels'] = calc_train['pathology'].replace(class_mapper).infer_objects(copy=False)\n",
      "C:\\Users\\Hieu\\AppData\\Local\\Temp\\ipykernel_45808\\1245405883.py:4: FutureWarning: Downcasting behavior in `replace` is deprecated and will be removed in a future version. To retain the old behavior, explicitly call `result.infer_objects(copy=False)`. To opt-in to the future behavior, set `pd.set_option('future.no_silent_downcasting', True)`\n",
      "  calc_test['labels'] = calc_test['pathology'].replace(class_mapper).infer_objects(copy=False)\n"
     ]
    }
   ],
   "source": [
    "mass_train['labels'] = mass_train['pathology'].replace(class_mapper).infer_objects(copy=False)\n",
    "mass_test['labels'] = mass_test['pathology'].replace(class_mapper).infer_objects(copy=False)\n",
    "calc_train['labels'] = calc_train['pathology'].replace(class_mapper).infer_objects(copy=False)\n",
    "calc_test['labels'] = calc_test['pathology'].replace(class_mapper).infer_objects(copy=False)"
   ]
  },
  {
   "cell_type": "code",
   "execution_count": 52,
   "id": "16e16a86",
   "metadata": {},
   "outputs": [],
   "source": [
    "mass_train.to_csv('./data/working/mass_train.csv', index=False)\n",
    "mass_test.to_csv('./data/working/mass_test.csv', index=False)\n",
    "calc_train.to_csv('./data/working/calc_train.csv', index=False)\n",
    "calc_test.to_csv('./data/working/calc_test.csv', index=False)"
   ]
  }
 ],
 "metadata": {
  "kaggle": {
   "accelerator": "gpu",
   "dataSources": [
    {
     "datasetId": 1115384,
     "sourceId": 1873742,
     "sourceType": "datasetVersion"
    },
    {
     "datasetId": 5626466,
     "sourceId": 9293524,
     "sourceType": "datasetVersion"
    }
   ],
   "dockerImageVersionId": 30762,
   "isGpuEnabled": true,
   "isInternetEnabled": true,
   "language": "python",
   "sourceType": "notebook"
  },
  "kernelspec": {
   "display_name": "med_img",
   "language": "python",
   "name": "python3"
  },
  "language_info": {
   "codemirror_mode": {
    "name": "ipython",
    "version": 3
   },
   "file_extension": ".py",
   "mimetype": "text/x-python",
   "name": "python",
   "nbconvert_exporter": "python",
   "pygments_lexer": "ipython3",
   "version": "3.9.0"
  },
  "papermill": {
   "default_parameters": {},
   "duration": 1507.48598,
   "end_time": "2025-04-13T08:59:36.434844",
   "environment_variables": {},
   "exception": null,
   "input_path": "__notebook__.ipynb",
   "output_path": "__notebook__.ipynb",
   "parameters": {},
   "start_time": "2025-04-13T08:34:28.948864",
   "version": "2.6.0"
  }
 },
 "nbformat": 4,
 "nbformat_minor": 5
}
